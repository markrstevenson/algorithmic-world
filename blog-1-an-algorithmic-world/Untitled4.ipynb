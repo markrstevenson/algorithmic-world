{
 "cells": [
  {
   "cell_type": "code",
   "execution_count": 2,
   "id": "0614b63e-f7c0-43ed-b985-e2030d58e1e5",
   "metadata": {},
   "outputs": [],
   "source": [
    "import pandas as pd\n",
    "import numpy as np"
   ]
  },
  {
   "cell_type": "code",
   "execution_count": 9,
   "id": "f622020c-e2c0-45b9-b485-2a1e03095892",
   "metadata": {},
   "outputs": [],
   "source": [
    "s1 = pd.Series([100, 200, \"python\", 300.12, 400])"
   ]
  },
  {
   "cell_type": "code",
   "execution_count": 36,
   "id": "f34adf9f-d689-4cb9-8cc1-d5d17c203f57",
   "metadata": {},
   "outputs": [
    {
     "data": {
      "text/plain": [
       "0    100.00\n",
       "1    200.00\n",
       "2       NaN\n",
       "3    300.12\n",
       "4    400.00\n",
       "dtype: float64"
      ]
     },
     "execution_count": 36,
     "metadata": {},
     "output_type": "execute_result"
    }
   ],
   "source": [
    "pd.to_numeric(s1, errors='coerce')"
   ]
  },
  {
   "cell_type": "code",
   "execution_count": 23,
   "id": "68f6b1e8-19cc-4708-92a9-180139bda1d8",
   "metadata": {},
   "outputs": [],
   "source": [
    "df = pd.DataFrame(s1, columns =['col1'])"
   ]
  },
  {
   "cell_type": "code",
   "execution_count": 41,
   "id": "9f912b8f-2c16-4821-8434-d7aced97420d",
   "metadata": {},
   "outputs": [],
   "source": [
    "df['new_col'] = pd.to_numeric(df['col1'], errors='coerce')"
   ]
  },
  {
   "cell_type": "code",
   "execution_count": 45,
   "id": "59b4b814-b15d-4aae-af6b-cec56f764184",
   "metadata": {},
   "outputs": [
    {
     "data": {
      "text/plain": [
       "col1        object\n",
       "new_col    float64\n",
       "dtype: object"
      ]
     },
     "execution_count": 45,
     "metadata": {},
     "output_type": "execute_result"
    }
   ],
   "source": [
    "df.dtypes"
   ]
  },
  {
   "cell_type": "code",
   "execution_count": null,
   "id": "6efef628-1aca-4d23-99ff-4ea9571a658b",
   "metadata": {},
   "outputs": [],
   "source": []
  }
 ],
 "metadata": {
  "kernelspec": {
   "display_name": "Python 3 (ipykernel)",
   "language": "python",
   "name": "python3"
  },
  "language_info": {
   "codemirror_mode": {
    "name": "ipython",
    "version": 3
   },
   "file_extension": ".py",
   "mimetype": "text/x-python",
   "name": "python",
   "nbconvert_exporter": "python",
   "pygments_lexer": "ipython3",
   "version": "3.8.9"
  }
 },
 "nbformat": 4,
 "nbformat_minor": 5
}
