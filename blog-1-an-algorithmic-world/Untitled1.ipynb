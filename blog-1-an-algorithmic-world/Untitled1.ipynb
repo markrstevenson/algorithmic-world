{
 "cells": [
  {
   "cell_type": "code",
   "execution_count": 1,
   "id": "af94bb68-6330-4527-860f-f1acf3f249a2",
   "metadata": {},
   "outputs": [],
   "source": [
    "import pandas as pd\n",
    "import numpy as np"
   ]
  },
  {
   "cell_type": "code",
   "execution_count": 5,
   "id": "88bc8f00-bec3-4844-a61d-18f9ccf4c50f",
   "metadata": {},
   "outputs": [
    {
     "name": "stdout",
     "output_type": "stream",
     "text": [
      "2\n",
      "4\n",
      "6\n",
      "8\n",
      "10\n"
     ]
    }
   ],
   "source": [
    "range1 = range(2, 12, 2)\n",
    "for n in range1:\n",
    "    print(n)\n",
    "series1 = pd.Series(range1)"
   ]
  },
  {
   "cell_type": "code",
   "execution_count": 6,
   "id": "fb5f8931-0e90-41f3-b4bc-a6fbf44c48a8",
   "metadata": {},
   "outputs": [
    {
     "name": "stdout",
     "output_type": "stream",
     "text": [
      "1\n",
      "3\n",
      "5\n",
      "7\n",
      "9\n"
     ]
    }
   ],
   "source": [
    "range2 = range(1, 11, 2)\n",
    "for n in range2:\n",
    "    print(n)\n",
    "series2 = pd.Series(range2)"
   ]
  },
  {
   "cell_type": "code",
   "execution_count": 10,
   "id": "48ac9fd7-b27f-4b1a-9eb1-65af9d24ea4c",
   "metadata": {},
   "outputs": [],
   "source": [
    "def add(s1, s2):\n",
    "    r = s1+s2\n",
    "    return r\n",
    "\n",
    "def subtract(s1, s2):\n",
    "    r = s1 - s2\n",
    "    return r\n",
    "\n",
    "def multiply(s1, s2):\n",
    "    r = s1*s2\n",
    "    return r\n",
    "\n",
    "def divide(s1, s2):\n",
    "    r = s1/s2\n",
    "    return r"
   ]
  },
  {
   "cell_type": "code",
   "execution_count": 11,
   "id": "95e896c4-50c2-4d12-992f-f8c8b02994d3",
   "metadata": {},
   "outputs": [
    {
     "data": {
      "text/plain": [
       "0     3\n",
       "1     7\n",
       "2    11\n",
       "3    15\n",
       "4    19\n",
       "dtype: int64"
      ]
     },
     "execution_count": 11,
     "metadata": {},
     "output_type": "execute_result"
    }
   ],
   "source": [
    "add(series1, series2)"
   ]
  },
  {
   "cell_type": "code",
   "execution_count": 12,
   "id": "f5cfba5c-9dcf-435a-b2d4-f45ac66a5a1b",
   "metadata": {},
   "outputs": [
    {
     "data": {
      "text/plain": [
       "0    1\n",
       "1    1\n",
       "2    1\n",
       "3    1\n",
       "4    1\n",
       "dtype: int64"
      ]
     },
     "execution_count": 12,
     "metadata": {},
     "output_type": "execute_result"
    }
   ],
   "source": [
    "subtract(series1, series2)"
   ]
  },
  {
   "cell_type": "code",
   "execution_count": 13,
   "id": "1c7b087c-a7f0-43d2-ad10-ae0b75ee0436",
   "metadata": {},
   "outputs": [
    {
     "data": {
      "text/plain": [
       "0     2\n",
       "1    12\n",
       "2    30\n",
       "3    56\n",
       "4    90\n",
       "dtype: int64"
      ]
     },
     "execution_count": 13,
     "metadata": {},
     "output_type": "execute_result"
    }
   ],
   "source": [
    "multiply(series1, series2)"
   ]
  },
  {
   "cell_type": "code",
   "execution_count": 14,
   "id": "e0b1312e-150f-4082-8533-b9f61da80502",
   "metadata": {},
   "outputs": [
    {
     "data": {
      "text/plain": [
       "0    2.000000\n",
       "1    1.333333\n",
       "2    1.200000\n",
       "3    1.142857\n",
       "4    1.111111\n",
       "dtype: float64"
      ]
     },
     "execution_count": 14,
     "metadata": {},
     "output_type": "execute_result"
    }
   ],
   "source": [
    "divide(series1, series2)"
   ]
  },
  {
   "cell_type": "code",
   "execution_count": null,
   "id": "8926f745-950e-4d44-a0d0-5c4ffcf088b2",
   "metadata": {},
   "outputs": [],
   "source": []
  }
 ],
 "metadata": {
  "kernelspec": {
   "display_name": "Python 3 (ipykernel)",
   "language": "python",
   "name": "python3"
  },
  "language_info": {
   "codemirror_mode": {
    "name": "ipython",
    "version": 3
   },
   "file_extension": ".py",
   "mimetype": "text/x-python",
   "name": "python",
   "nbconvert_exporter": "python",
   "pygments_lexer": "ipython3",
   "version": "3.8.9"
  }
 },
 "nbformat": 4,
 "nbformat_minor": 5
}
