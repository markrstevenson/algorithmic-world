{
 "cells": [
  {
   "cell_type": "code",
   "execution_count": 1,
   "id": "45234424-3d7f-4059-8f2f-23c1df17b77e",
   "metadata": {},
   "outputs": [],
   "source": [
    "import pandas as pd\n",
    "import numpy as np"
   ]
  },
  {
   "cell_type": "code",
   "execution_count": 2,
   "id": "9f074bd0-a477-4555-b921-a777fcd366b4",
   "metadata": {},
   "outputs": [],
   "source": [
    "s1 = pd.Series([100, 200, \"python\", 300.12, 400])"
   ]
  },
  {
   "cell_type": "code",
   "execution_count": 5,
   "id": "7504f6b3-13ab-450c-84ce-44e9f8804f2a",
   "metadata": {},
   "outputs": [
    {
     "data": {
      "text/plain": [
       "array([100, 200, 'python', 300.12, 400], dtype=object)"
      ]
     },
     "execution_count": 5,
     "metadata": {},
     "output_type": "execute_result"
    }
   ],
   "source": [
    "s1.to_numpy()"
   ]
  },
  {
   "cell_type": "code",
   "execution_count": 6,
   "id": "1b9d9eed-688d-4e2a-8bd2-6b10d87f380c",
   "metadata": {},
   "outputs": [
    {
     "data": {
      "text/plain": [
       "array(['100', '200', 'python', '300.12', '400'], dtype='<U32')"
      ]
     },
     "execution_count": 6,
     "metadata": {},
     "output_type": "execute_result"
    }
   ],
   "source": [
    "np.array(s1.to_list())"
   ]
  },
  {
   "cell_type": "code",
   "execution_count": null,
   "id": "347933e3-1a6c-494f-af85-d022c719964a",
   "metadata": {},
   "outputs": [],
   "source": []
  }
 ],
 "metadata": {
  "kernelspec": {
   "display_name": "Python 3 (ipykernel)",
   "language": "python",
   "name": "python3"
  },
  "language_info": {
   "codemirror_mode": {
    "name": "ipython",
    "version": 3
   },
   "file_extension": ".py",
   "mimetype": "text/x-python",
   "name": "python",
   "nbconvert_exporter": "python",
   "pygments_lexer": "ipython3",
   "version": "3.8.9"
  }
 },
 "nbformat": 4,
 "nbformat_minor": 5
}
