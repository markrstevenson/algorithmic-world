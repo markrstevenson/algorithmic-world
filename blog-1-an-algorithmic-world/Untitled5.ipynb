{
 "cells": [
  {
   "cell_type": "code",
   "execution_count": 1,
   "id": "affcc324-a621-4159-bc6b-2959fa03ee72",
   "metadata": {},
   "outputs": [],
   "source": [
    "import pandas as pd\n",
    "import numpy as np"
   ]
  },
  {
   "cell_type": "code",
   "execution_count": 2,
   "id": "97aa79ed-5474-4010-9fd1-d4cf5deec23a",
   "metadata": {},
   "outputs": [],
   "source": [
    "data = [[1, 4, 7], [2,5,5], [3,6,8],[4,9,12],[7,5,1],[11,0,11]]"
   ]
  },
  {
   "cell_type": "code",
   "execution_count": 8,
   "id": "84c41b3a-6e5d-492c-96c0-61e0c4ef53bc",
   "metadata": {},
   "outputs": [],
   "source": [
    "df=pd.DataFrame(data, columns = ['col1', 'col2', 'col3'])"
   ]
  },
  {
   "cell_type": "code",
   "execution_count": 9,
   "id": "d951ac8a-924c-4e5a-95aa-80f10e785956",
   "metadata": {},
   "outputs": [
    {
     "data": {
      "text/plain": [
       "0     1\n",
       "1     2\n",
       "2     3\n",
       "3     4\n",
       "4     7\n",
       "5    11\n",
       "Name: col1, dtype: int64"
      ]
     },
     "execution_count": 9,
     "metadata": {},
     "output_type": "execute_result"
    }
   ],
   "source": [
    "pd.Series(df['col1'])"
   ]
  },
  {
   "cell_type": "code",
   "execution_count": null,
   "id": "d32cee37-6885-4757-8251-33277b2d85e3",
   "metadata": {},
   "outputs": [],
   "source": []
  }
 ],
 "metadata": {
  "kernelspec": {
   "display_name": "Python 3 (ipykernel)",
   "language": "python",
   "name": "python3"
  },
  "language_info": {
   "codemirror_mode": {
    "name": "ipython",
    "version": 3
   },
   "file_extension": ".py",
   "mimetype": "text/x-python",
   "name": "python",
   "nbconvert_exporter": "python",
   "pygments_lexer": "ipython3",
   "version": "3.8.9"
  }
 },
 "nbformat": 4,
 "nbformat_minor": 5
}
