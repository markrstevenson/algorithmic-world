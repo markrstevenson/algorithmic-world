{
 "cells": [
  {
   "cell_type": "code",
   "execution_count": 1,
   "id": "84db0956-677f-44c7-9686-64a19dafa89e",
   "metadata": {},
   "outputs": [],
   "source": [
    "import pandas as pd\n",
    "import numpy as np"
   ]
  },
  {
   "cell_type": "code",
   "execution_count": 2,
   "id": "e14661d5-a97a-4302-beb7-57b654280420",
   "metadata": {},
   "outputs": [],
   "source": [
    "arr_ = np.array([10, 20, 30, 40, 50])\n"
   ]
  },
  {
   "cell_type": "code",
   "execution_count": 3,
   "id": "16aefc1f-89d5-4cc3-b4b4-d20b4447a2d8",
   "metadata": {},
   "outputs": [
    {
     "data": {
      "text/plain": [
       "array([10, 20, 30, 40, 50])"
      ]
     },
     "execution_count": 3,
     "metadata": {},
     "output_type": "execute_result"
    }
   ],
   "source": [
    "arr_"
   ]
  },
  {
   "cell_type": "code",
   "execution_count": 5,
   "id": "920cf5c8-8bb9-4f28-a6af-c07113ff49a5",
   "metadata": {},
   "outputs": [],
   "source": [
    "s = pd.Series(arr_)"
   ]
  },
  {
   "cell_type": "code",
   "execution_count": 6,
   "id": "e8d29b53-f7a9-4b64-9205-4583df8c6518",
   "metadata": {},
   "outputs": [
    {
     "data": {
      "text/plain": [
       "0    10\n",
       "1    20\n",
       "2    30\n",
       "3    40\n",
       "4    50\n",
       "dtype: int64"
      ]
     },
     "execution_count": 6,
     "metadata": {},
     "output_type": "execute_result"
    }
   ],
   "source": [
    "s"
   ]
  },
  {
   "cell_type": "code",
   "execution_count": null,
   "id": "fd748fbc-e9ac-4205-b671-42dff5d2100f",
   "metadata": {},
   "outputs": [],
   "source": []
  }
 ],
 "metadata": {
  "kernelspec": {
   "display_name": "Python 3 (ipykernel)",
   "language": "python",
   "name": "python3"
  },
  "language_info": {
   "codemirror_mode": {
    "name": "ipython",
    "version": 3
   },
   "file_extension": ".py",
   "mimetype": "text/x-python",
   "name": "python",
   "nbconvert_exporter": "python",
   "pygments_lexer": "ipython3",
   "version": "3.8.9"
  }
 },
 "nbformat": 4,
 "nbformat_minor": 5
}
