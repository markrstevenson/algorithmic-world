{
 "cells": [
  {
   "cell_type": "code",
   "execution_count": 1,
   "id": "8f30ee1c-e317-4714-b781-36b9ab4d26cb",
   "metadata": {},
   "outputs": [],
   "source": [
    "import pandas as pd\n",
    "import numpy as np"
   ]
  },
  {
   "cell_type": "code",
   "execution_count": 2,
   "id": "2358f503-a822-42d2-8b8c-6f7e79775ca3",
   "metadata": {},
   "outputs": [],
   "source": [
    "range_x = range(0,10,1)"
   ]
  },
  {
   "cell_type": "code",
   "execution_count": 3,
   "id": "879a64a9-f3c9-4a95-9a27-5e5218ae577d",
   "metadata": {},
   "outputs": [],
   "source": [
    "series_x = pd.Series(range_x)"
   ]
  },
  {
   "cell_type": "code",
   "execution_count": 4,
   "id": "e93b0926-743b-4b5e-a274-97af6ed56a0d",
   "metadata": {},
   "outputs": [
    {
     "data": {
      "text/plain": [
       "0    0\n",
       "1    1\n",
       "2    2\n",
       "3    3\n",
       "4    4\n",
       "5    5\n",
       "6    6\n",
       "7    7\n",
       "8    8\n",
       "9    9\n",
       "dtype: int64"
      ]
     },
     "execution_count": 4,
     "metadata": {},
     "output_type": "execute_result"
    }
   ],
   "source": [
    "series_x"
   ]
  },
  {
   "cell_type": "code",
   "execution_count": 8,
   "id": "1e7b89ce-2a08-40b8-9da9-142e7ec37a83",
   "metadata": {},
   "outputs": [
    {
     "data": {
      "text/plain": [
       "pandas.core.series.Series"
      ]
     },
     "execution_count": 8,
     "metadata": {},
     "output_type": "execute_result"
    }
   ],
   "source": [
    "type(series_x)"
   ]
  },
  {
   "cell_type": "code",
   "execution_count": 6,
   "id": "57955c7a-be41-462f-a725-07e6aa21aa2f",
   "metadata": {},
   "outputs": [],
   "source": [
    "list_x = series_x.tolist()"
   ]
  },
  {
   "cell_type": "code",
   "execution_count": 7,
   "id": "31afe779-cb4d-4df1-9bfd-6353b68f1ebc",
   "metadata": {},
   "outputs": [
    {
     "data": {
      "text/plain": [
       "[0, 1, 2, 3, 4, 5, 6, 7, 8, 9]"
      ]
     },
     "execution_count": 7,
     "metadata": {},
     "output_type": "execute_result"
    }
   ],
   "source": [
    "list_x"
   ]
  },
  {
   "cell_type": "code",
   "execution_count": 9,
   "id": "a7ab12cd-9226-4137-8b15-9b22e6ac46ff",
   "metadata": {},
   "outputs": [
    {
     "data": {
      "text/plain": [
       "list"
      ]
     },
     "execution_count": 9,
     "metadata": {},
     "output_type": "execute_result"
    }
   ],
   "source": [
    "type(list_x)"
   ]
  },
  {
   "cell_type": "code",
   "execution_count": null,
   "id": "5c572209-0bdb-4896-a986-fdb4fb9c9232",
   "metadata": {},
   "outputs": [],
   "source": []
  }
 ],
 "metadata": {
  "kernelspec": {
   "display_name": "Python 3 (ipykernel)",
   "language": "python",
   "name": "python3"
  },
  "language_info": {
   "codemirror_mode": {
    "name": "ipython",
    "version": 3
   },
   "file_extension": ".py",
   "mimetype": "text/x-python",
   "name": "python",
   "nbconvert_exporter": "python",
   "pygments_lexer": "ipython3",
   "version": "3.8.9"
  }
 },
 "nbformat": 4,
 "nbformat_minor": 5
}
