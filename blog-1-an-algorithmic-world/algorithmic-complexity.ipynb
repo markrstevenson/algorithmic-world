{
 "cells": [
  {
   "cell_type": "code",
   "execution_count": 1,
   "id": "5c57f9f6-85f9-490a-8334-568b307b819f",
   "metadata": {},
   "outputs": [],
   "source": [
    "import pandas as pd\n",
    "import numpy as np\n",
    "import matplotlib.pyplot as plt"
   ]
  },
  {
   "cell_type": "code",
   "execution_count": 2,
   "id": "7bb13099-1ee4-4874-b99e-5c24b7e09c21",
   "metadata": {},
   "outputs": [],
   "source": [
    "# generate n\n",
    "x = range_n = range(1, 12, 1)\n",
    "series_n = pd.Series(x)"
   ]
  },
  {
   "cell_type": "code",
   "execution_count": 3,
   "id": "94bae1bc-c871-4f73-b266-4509014208d4",
   "metadata": {},
   "outputs": [],
   "source": [
    "# create a dataframe\n",
    "df = pd.DataFrame(series_n, columns = ['n'])"
   ]
  },
  {
   "cell_type": "code",
   "execution_count": 4,
   "id": "9754a375-15d8-416d-ab07-9206a9e3666e",
   "metadata": {},
   "outputs": [],
   "source": [
    "# generate n^2\n",
    "df['n_squared'] = df['n']*df['n']"
   ]
  },
  {
   "cell_type": "code",
   "execution_count": 5,
   "id": "1c5be4d1-7a38-45ff-bc65-c8389216ae30",
   "metadata": {},
   "outputs": [],
   "source": [
    "# generate log(n)\n",
    "df['logn'] = np.log(df['n'])"
   ]
  },
  {
   "cell_type": "code",
   "execution_count": 6,
   "id": "161ba052-e372-456a-bef5-9be0bbde9f1e",
   "metadata": {},
   "outputs": [],
   "source": [
    "# generate n log(n)\n",
    "df['n_logn'] = df['n']*np.log(df['n'])"
   ]
  },
  {
   "cell_type": "code",
   "execution_count": 7,
   "id": "65f5fe7d-c97e-48ad-b21d-0ef375449c1e",
   "metadata": {},
   "outputs": [],
   "source": [
    "# generate 2^n\n",
    "df['2_n'] = df['n'].apply(lambda x: 2**x)"
   ]
  },
  {
   "cell_type": "code",
   "execution_count": 8,
   "id": "333782bc-9091-4b1e-be7b-7f727f373cbe",
   "metadata": {},
   "outputs": [],
   "source": [
    "# generate n!\n",
    "df['n_factorial'] = df['n'].apply(lambda x: np.math.factorial(x))"
   ]
  },
  {
   "cell_type": "code",
   "execution_count": 9,
   "id": "c8d8e127-2682-42be-b3a0-2f45c7bba619",
   "metadata": {},
   "outputs": [],
   "source": [
    "# generate c\n",
    "df['c'] = 1"
   ]
  },
  {
   "cell_type": "code",
   "execution_count": 10,
   "id": "6f41b77a-d03c-4014-a7bf-9f1cb7fcb4ea",
   "metadata": {},
   "outputs": [
    {
     "data": {
      "text/html": [
       "<div>\n",
       "<style scoped>\n",
       "    .dataframe tbody tr th:only-of-type {\n",
       "        vertical-align: middle;\n",
       "    }\n",
       "\n",
       "    .dataframe tbody tr th {\n",
       "        vertical-align: top;\n",
       "    }\n",
       "\n",
       "    .dataframe thead th {\n",
       "        text-align: right;\n",
       "    }\n",
       "</style>\n",
       "<table border=\"1\" class=\"dataframe\">\n",
       "  <thead>\n",
       "    <tr style=\"text-align: right;\">\n",
       "      <th></th>\n",
       "      <th>n</th>\n",
       "      <th>n_squared</th>\n",
       "      <th>logn</th>\n",
       "      <th>n_logn</th>\n",
       "      <th>2_n</th>\n",
       "      <th>n_factorial</th>\n",
       "      <th>c</th>\n",
       "    </tr>\n",
       "  </thead>\n",
       "  <tbody>\n",
       "    <tr>\n",
       "      <th>0</th>\n",
       "      <td>1</td>\n",
       "      <td>1</td>\n",
       "      <td>0.000000</td>\n",
       "      <td>0.000000</td>\n",
       "      <td>2</td>\n",
       "      <td>1</td>\n",
       "      <td>1</td>\n",
       "    </tr>\n",
       "    <tr>\n",
       "      <th>1</th>\n",
       "      <td>2</td>\n",
       "      <td>4</td>\n",
       "      <td>0.693147</td>\n",
       "      <td>1.386294</td>\n",
       "      <td>4</td>\n",
       "      <td>2</td>\n",
       "      <td>1</td>\n",
       "    </tr>\n",
       "    <tr>\n",
       "      <th>2</th>\n",
       "      <td>3</td>\n",
       "      <td>9</td>\n",
       "      <td>1.098612</td>\n",
       "      <td>3.295837</td>\n",
       "      <td>8</td>\n",
       "      <td>6</td>\n",
       "      <td>1</td>\n",
       "    </tr>\n",
       "    <tr>\n",
       "      <th>3</th>\n",
       "      <td>4</td>\n",
       "      <td>16</td>\n",
       "      <td>1.386294</td>\n",
       "      <td>5.545177</td>\n",
       "      <td>16</td>\n",
       "      <td>24</td>\n",
       "      <td>1</td>\n",
       "    </tr>\n",
       "    <tr>\n",
       "      <th>4</th>\n",
       "      <td>5</td>\n",
       "      <td>25</td>\n",
       "      <td>1.609438</td>\n",
       "      <td>8.047190</td>\n",
       "      <td>32</td>\n",
       "      <td>120</td>\n",
       "      <td>1</td>\n",
       "    </tr>\n",
       "    <tr>\n",
       "      <th>5</th>\n",
       "      <td>6</td>\n",
       "      <td>36</td>\n",
       "      <td>1.791759</td>\n",
       "      <td>10.750557</td>\n",
       "      <td>64</td>\n",
       "      <td>720</td>\n",
       "      <td>1</td>\n",
       "    </tr>\n",
       "    <tr>\n",
       "      <th>6</th>\n",
       "      <td>7</td>\n",
       "      <td>49</td>\n",
       "      <td>1.945910</td>\n",
       "      <td>13.621371</td>\n",
       "      <td>128</td>\n",
       "      <td>5040</td>\n",
       "      <td>1</td>\n",
       "    </tr>\n",
       "    <tr>\n",
       "      <th>7</th>\n",
       "      <td>8</td>\n",
       "      <td>64</td>\n",
       "      <td>2.079442</td>\n",
       "      <td>16.635532</td>\n",
       "      <td>256</td>\n",
       "      <td>40320</td>\n",
       "      <td>1</td>\n",
       "    </tr>\n",
       "    <tr>\n",
       "      <th>8</th>\n",
       "      <td>9</td>\n",
       "      <td>81</td>\n",
       "      <td>2.197225</td>\n",
       "      <td>19.775021</td>\n",
       "      <td>512</td>\n",
       "      <td>362880</td>\n",
       "      <td>1</td>\n",
       "    </tr>\n",
       "    <tr>\n",
       "      <th>9</th>\n",
       "      <td>10</td>\n",
       "      <td>100</td>\n",
       "      <td>2.302585</td>\n",
       "      <td>23.025851</td>\n",
       "      <td>1024</td>\n",
       "      <td>3628800</td>\n",
       "      <td>1</td>\n",
       "    </tr>\n",
       "    <tr>\n",
       "      <th>10</th>\n",
       "      <td>11</td>\n",
       "      <td>121</td>\n",
       "      <td>2.397895</td>\n",
       "      <td>26.376848</td>\n",
       "      <td>2048</td>\n",
       "      <td>39916800</td>\n",
       "      <td>1</td>\n",
       "    </tr>\n",
       "  </tbody>\n",
       "</table>\n",
       "</div>"
      ],
      "text/plain": [
       "     n  n_squared      logn     n_logn   2_n  n_factorial  c\n",
       "0    1          1  0.000000   0.000000     2            1  1\n",
       "1    2          4  0.693147   1.386294     4            2  1\n",
       "2    3          9  1.098612   3.295837     8            6  1\n",
       "3    4         16  1.386294   5.545177    16           24  1\n",
       "4    5         25  1.609438   8.047190    32          120  1\n",
       "5    6         36  1.791759  10.750557    64          720  1\n",
       "6    7         49  1.945910  13.621371   128         5040  1\n",
       "7    8         64  2.079442  16.635532   256        40320  1\n",
       "8    9         81  2.197225  19.775021   512       362880  1\n",
       "9   10        100  2.302585  23.025851  1024      3628800  1\n",
       "10  11        121  2.397895  26.376848  2048     39916800  1"
      ]
     },
     "execution_count": 10,
     "metadata": {},
     "output_type": "execute_result"
    }
   ],
   "source": [
    "# see dataframe\n",
    "df"
   ]
  },
  {
   "cell_type": "code",
   "execution_count": 11,
   "id": "27ba4b8e-54a6-40b1-8e90-eb0e2f222dec",
   "metadata": {},
   "outputs": [
    {
     "data": {
      "image/png": "[encoded data removed]",
      "text/plain": [
       "<Figure size 640x480 with 1 Axes>"
      ]
     },
     "metadata": {},
     "output_type": "display_data"
    }
   ],
   "source": [
    "# plot\n",
    "plt.plot(x, df['c'], label = 'O(c)', color='green')\n",
    "plt.plot(x, df['logn'], label = 'O(log(n))', color='forestgreen')\n",
    "plt.plot(x, df['n'], label = 'O(n)', color='palegreen')\n",
    "plt.plot(x, df['n_logn'], label = 'O(nlog(n))', color='olive')\n",
    "plt.plot(x, df['n_squared'], label = 'O($n^2$)', color='wheat')\n",
    "plt.plot(x, df['2_n'], label = 'O($2^n$)', color='darkorange')\n",
    "plt.plot(x, df['n_factorial'], label = 'O($n!$)', color = 'red')\n",
    "\n",
    "plt.legend()\n",
    "plt.title('Big O')\n",
    "plt.xlabel('Elements')\n",
    "plt.ylabel('Number of Operations')\n",
    "plt.ylim(1, 120)\n",
    "plt.xlim(1, 10)\n",
    "#plt.show()\n",
    "plt.savefig('big-o')"
   ]
  }
 ],
 "metadata": {
  "kernelspec": {
   "display_name": "Python 3 (ipykernel)",
   "language": "python",
   "name": "python3"
  },
  "language_info": {
   "codemirror_mode": {
    "name": "ipython",
    "version": 3
   },
   "file_extension": ".py",
   "mimetype": "text/x-python",
   "name": "python",
   "nbconvert_exporter": "python",
   "pygments_lexer": "ipython3",
   "version": "3.8.9"
  }
 },
 "nbformat": 4,
 "nbformat_minor": 5
}
