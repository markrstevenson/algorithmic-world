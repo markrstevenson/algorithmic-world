{
 "cells": [
  {
   "cell_type": "code",
   "execution_count": 1,
   "id": "7f6851ea-5109-485e-a3c0-2c32c23de953",
   "metadata": {},
   "outputs": [],
   "source": [
    "import pandas as pd\n",
    "import numpy as np"
   ]
  },
  {
   "cell_type": "code",
   "execution_count": 8,
   "id": "75256011-c318-4fe9-971a-b3730af46487",
   "metadata": {},
   "outputs": [],
   "source": [
    "l1 = list(['Red', 'Green', 'White'])\n",
    "l2 = list(['Red', 'Black'])\n",
    "l3 = list(['Yellow'])"
   ]
  },
  {
   "cell_type": "code",
   "execution_count": 10,
   "id": "30513927-ccfc-4296-909a-742a521a32c8",
   "metadata": {},
   "outputs": [],
   "source": [
    "s = pd.Series([l1, l2, l3])"
   ]
  },
  {
   "cell_type": "code",
   "execution_count": 11,
   "id": "5c178159-96ee-436d-9a1d-dfc706e7b11b",
   "metadata": {},
   "outputs": [
    {
     "data": {
      "text/plain": [
       "0       Red\n",
       "0     Green\n",
       "0     White\n",
       "1       Red\n",
       "1     Black\n",
       "2    Yellow\n",
       "dtype: object"
      ]
     },
     "execution_count": 11,
     "metadata": {},
     "output_type": "execute_result"
    }
   ],
   "source": [
    "s.explode()"
   ]
  },
  {
   "cell_type": "code",
   "execution_count": null,
   "id": "24b48b5a-f71c-4d88-ae56-ac80bfd3e693",
   "metadata": {},
   "outputs": [],
   "source": [
    "s.explode()"
   ]
  }
 ],
 "metadata": {
  "kernelspec": {
   "display_name": "Python 3 (ipykernel)",
   "language": "python",
   "name": "python3"
  },
  "language_info": {
   "codemirror_mode": {
    "name": "ipython",
    "version": 3
   },
   "file_extension": ".py",
   "mimetype": "text/x-python",
   "name": "python",
   "nbconvert_exporter": "python",
   "pygments_lexer": "ipython3",
   "version": "3.8.9"
  }
 },
 "nbformat": 4,
 "nbformat_minor": 5
}
